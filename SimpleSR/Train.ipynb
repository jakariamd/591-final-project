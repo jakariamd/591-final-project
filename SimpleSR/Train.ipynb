{
 "cells": [
  {
   "cell_type": "code",
   "execution_count": 1,
   "id": "5ac17e99",
   "metadata": {},
   "outputs": [
    {
     "data": {
      "text/plain": [
       "2"
      ]
     },
     "execution_count": 1,
     "metadata": {},
     "output_type": "execute_result"
    }
   ],
   "source": [
    "import torch\n",
    "import matplotlib\n",
    "import matplotlib.pyplot as plt\n",
    "import time\n",
    "import h5py\n",
    "import srcnn\n",
    "import torch.optim as optim\n",
    "import torch.nn as nn\n",
    "import numpy as np\n",
    "import math\n",
    "from torch.utils.data import DataLoader, Dataset\n",
    "from tqdm import tqdm\n",
    "from sklearn.model_selection import train_test_split\n",
    "from torchvision.utils import save_image\n",
    "matplotlib.style.use('ggplot')"
   ]
  },
  {
   "cell_type": "code",
   "execution_count": 2,
   "id": "295f5019",
   "metadata": {},
   "outputs": [],
   "source": [
    "# learning parameters\n",
    "batch_size = 64 # batch size, reduce if facing OOM error\n",
    "epochs = 100 # number of epochs to train the SRCNN model for\n",
    "lr = 0.001 # the learning rate\n",
    "device = 'cuda' if torch.cuda.is_available() else 'cpu'"
   ]
  },
  {
   "cell_type": "code",
   "execution_count": 4,
   "id": "2966ed23",
   "metadata": {},
   "outputs": [],
   "source": [
    "# input image dimensions\n",
    "img_rows, img_cols = 33, 33\n",
    "out_rows, out_cols = 33, 33"
   ]
  },
  {
   "cell_type": "code",
   "execution_count": 5,
   "id": "6d8dc24c",
   "metadata": {},
   "outputs": [],
   "source": [
    "file = h5py.File('../input/train_mscale.h5')\n",
    "# `in_train` has shape (21884, 33, 33, 1) which corresponds to\n",
    "# 21884 image patches of 33 pixels height & width and 1 color channel\n",
    "in_train = file['data'][:] # the training data\n",
    "out_train = file['label'][:] # the training labels\n",
    "file.close()\n",
    "# change the values to float32\n",
    "in_train = in_train.astype('float32')\n",
    "out_train = out_train.astype('float32')"
   ]
  },
  {
   "cell_type": "code",
   "execution_count": 6,
   "id": "86ad1fab",
   "metadata": {},
   "outputs": [
    {
     "name": "stdout",
     "output_type": "stream",
     "text": [
      "Training samples:  16368\n",
      "Validation samples:  5456\n"
     ]
    }
   ],
   "source": [
    "(x_train, x_val, y_train, y_val) = train_test_split(in_train, out_train, test_size=0.25)\n",
    "print('Training samples: ', x_train.shape[0])\n",
    "print('Validation samples: ', x_val.shape[0])"
   ]
  },
  {
   "cell_type": "code",
   "execution_count": null,
   "id": "2d22b09a",
   "metadata": {},
   "outputs": [],
   "source": []
  },
  {
   "cell_type": "code",
   "execution_count": null,
   "id": "ce4744d3",
   "metadata": {},
   "outputs": [],
   "source": []
  },
  {
   "cell_type": "code",
   "execution_count": 7,
   "id": "958eca91",
   "metadata": {},
   "outputs": [],
   "source": [
    "# the dataset module\n",
    "class SRCNNDataset(Dataset):\n",
    "    def __init__(self, image_data, labels):\n",
    "        self.image_data = image_data\n",
    "        self.labels = labels\n",
    "    def __len__(self):\n",
    "        return (len(self.image_data))\n",
    "    def __getitem__(self, index):\n",
    "        image = self.image_data[index]\n",
    "        label = self.labels[index]\n",
    "        return (\n",
    "            torch.tensor(image, dtype=torch.float),\n",
    "            torch.tensor(label, dtype=torch.float)\n",
    "        )"
   ]
  },
  {
   "cell_type": "code",
   "execution_count": 8,
   "id": "83c5a126",
   "metadata": {},
   "outputs": [],
   "source": [
    "# train and validation data\n",
    "train_data = SRCNNDataset(x_train, y_train)\n",
    "val_data = SRCNNDataset(x_val, y_val)\n",
    "# train and validation loaders\n",
    "train_loader = DataLoader(train_data, batch_size=batch_size)\n",
    "val_loader = DataLoader(val_data, batch_size=batch_size)"
   ]
  },
  {
   "cell_type": "code",
   "execution_count": 10,
   "id": "78c39e1e",
   "metadata": {},
   "outputs": [
    {
     "name": "stdout",
     "output_type": "stream",
     "text": [
      "Computation device:  cpu\n",
      "SRCNN(\n",
      "  (conv1): Conv2d(1, 64, kernel_size=(9, 9), stride=(1, 1), padding=(2, 2), padding_mode=replicate)\n",
      "  (conv2): Conv2d(64, 32, kernel_size=(1, 1), stride=(1, 1), padding=(2, 2), padding_mode=replicate)\n",
      "  (conv3): Conv2d(32, 1, kernel_size=(5, 5), stride=(1, 1), padding=(2, 2), padding_mode=replicate)\n",
      ")\n"
     ]
    }
   ],
   "source": [
    "# initialize the model\n",
    "print('Computation device: ', device)\n",
    "model = srcnn.SRCNN().to(device)\n",
    "print(model)"
   ]
  },
  {
   "cell_type": "code",
   "execution_count": 11,
   "id": "f87c5eac",
   "metadata": {},
   "outputs": [],
   "source": [
    "# optimizer\n",
    "optimizer = optim.Adam(model.parameters(), lr=lr)\n",
    "# loss function \n",
    "criterion = nn.MSELoss()"
   ]
  },
  {
   "cell_type": "code",
   "execution_count": 12,
   "id": "9e887b36",
   "metadata": {},
   "outputs": [],
   "source": [
    "def psnr(label, outputs, max_val=1.):\n",
    "    \"\"\"\n",
    "    Compute Peak Signal to Noise Ratio (the higher the better).\n",
    "    PSNR = 20 * log10(MAXp) - 10 * log10(MSE).\n",
    "    https://en.wikipedia.org/wiki/Peak_signal-to-noise_ratio#Definition\n",
    "    First we need to convert torch tensors to NumPy operable.\n",
    "    \"\"\"\n",
    "    label = label.cpu().detach().numpy()\n",
    "    outputs = outputs.cpu().detach().numpy()\n",
    "    img_diff = outputs - label\n",
    "    rmse = math.sqrt(np.mean((img_diff) ** 2))\n",
    "    if rmse == 0:\n",
    "        return 100\n",
    "    else:\n",
    "        PSNR = 20 * math.log10(max_val / rmse)\n",
    "        return PSNR"
   ]
  },
  {
   "cell_type": "code",
   "execution_count": 13,
   "id": "7c65668e",
   "metadata": {},
   "outputs": [],
   "source": [
    "def train(model, dataloader):\n",
    "    model.train()\n",
    "    running_loss = 0.0\n",
    "    running_psnr = 0.0\n",
    "    for bi, data in tqdm(enumerate(dataloader), total=int(len(train_data)/dataloader.batch_size)):\n",
    "        image_data = data[0].to(device)\n",
    "        label = data[1].to(device)\n",
    "        \n",
    "        # zero grad the optimizer\n",
    "        optimizer.zero_grad()\n",
    "        outputs = model(image_data)\n",
    "        loss = criterion(outputs, label)\n",
    "        # backpropagation\n",
    "        loss.backward()\n",
    "        # update the parameters\n",
    "        optimizer.step()\n",
    "        # add loss of each item (total items in a batch = batch size)\n",
    "        running_loss += loss.item()\n",
    "        # calculate batch psnr (once every `batch_size` iterations)\n",
    "        batch_psnr =  psnr(label, outputs)\n",
    "        running_psnr += batch_psnr\n",
    "    final_loss = running_loss/len(dataloader.dataset)\n",
    "    final_psnr = running_psnr/int(len(train_data)/dataloader.batch_size)\n",
    "    return final_loss, final_psnr"
   ]
  },
  {
   "cell_type": "code",
   "execution_count": 14,
   "id": "43ba7f6c",
   "metadata": {},
   "outputs": [],
   "source": [
    "def validate(model, dataloader, epoch):\n",
    "    model.eval()\n",
    "    running_loss = 0.0\n",
    "    running_psnr = 0.0\n",
    "    with torch.no_grad():\n",
    "        for bi, data in tqdm(enumerate(dataloader), total=int(len(val_data)/dataloader.batch_size)):\n",
    "            image_data = data[0].to(device)\n",
    "            label = data[1].to(device)\n",
    "            \n",
    "            outputs = model(image_data)\n",
    "            loss = criterion(outputs, label)\n",
    "            # add loss of each item (total items in a batch = batch size) \n",
    "            running_loss += loss.item()\n",
    "            # calculate batch psnr (once every `batch_size` iterations)\n",
    "            batch_psnr = psnr(label, outputs)\n",
    "            running_psnr += batch_psnr\n",
    "        outputs = outputs.cpu()\n",
    "        save_image(outputs, f\"../outputs/val_sr{epoch}.png\")\n",
    "    final_loss = running_loss/len(dataloader.dataset)\n",
    "    final_psnr = running_psnr/int(len(val_data)/dataloader.batch_size)\n",
    "    return final_loss, final_psnr"
   ]
  },
  {
   "cell_type": "code",
   "execution_count": 15,
   "id": "6ccf1702",
   "metadata": {},
   "outputs": [
    {
     "name": "stdout",
     "output_type": "stream",
     "text": [
      "Epoch 1 of 100\n"
     ]
    },
    {
     "name": "stderr",
     "output_type": "stream",
     "text": [
      "256it [00:22, 11.26it/s]                                                        \n",
      "86it [00:02, 35.18it/s]                                                         \n"
     ]
    },
    {
     "name": "stdout",
     "output_type": "stream",
     "text": [
      "Train PSNR: 24.393\n",
      "Val PSNR: 26.564\n",
      "Epoch 2 of 100\n"
     ]
    },
    {
     "name": "stderr",
     "output_type": "stream",
     "text": [
      "256it [00:23, 11.10it/s]                                                        \n",
      "86it [00:02, 32.56it/s]                                                         \n"
     ]
    },
    {
     "name": "stdout",
     "output_type": "stream",
     "text": [
      "Train PSNR: 26.649\n",
      "Val PSNR: 26.976\n",
      "Epoch 3 of 100\n"
     ]
    },
    {
     "name": "stderr",
     "output_type": "stream",
     "text": [
      "256it [00:21, 11.82it/s]                                                        \n",
      "86it [00:02, 36.01it/s]                                                         \n"
     ]
    },
    {
     "name": "stdout",
     "output_type": "stream",
     "text": [
      "Train PSNR: 26.927\n",
      "Val PSNR: 27.169\n",
      "Epoch 4 of 100\n"
     ]
    },
    {
     "name": "stderr",
     "output_type": "stream",
     "text": [
      "256it [00:30,  8.31it/s]                                                        \n",
      "86it [00:02, 30.34it/s]                                                         \n"
     ]
    },
    {
     "name": "stdout",
     "output_type": "stream",
     "text": [
      "Train PSNR: 27.059\n",
      "Val PSNR: 27.285\n",
      "Epoch 5 of 100\n"
     ]
    },
    {
     "name": "stderr",
     "output_type": "stream",
     "text": [
      "256it [00:22, 11.44it/s]                                                        \n",
      "86it [00:02, 35.59it/s]                                                         \n"
     ]
    },
    {
     "name": "stdout",
     "output_type": "stream",
     "text": [
      "Train PSNR: 27.139\n",
      "Val PSNR: 27.351\n",
      "Epoch 6 of 100\n"
     ]
    },
    {
     "name": "stderr",
     "output_type": "stream",
     "text": [
      "256it [00:22, 11.14it/s]                                                        \n",
      "86it [00:02, 36.13it/s]                                                         \n"
     ]
    },
    {
     "name": "stdout",
     "output_type": "stream",
     "text": [
      "Train PSNR: 27.196\n",
      "Val PSNR: 27.400\n",
      "Epoch 7 of 100\n"
     ]
    },
    {
     "name": "stderr",
     "output_type": "stream",
     "text": [
      "256it [00:22, 11.41it/s]                                                        \n",
      "86it [00:02, 36.14it/s]                                                         \n"
     ]
    },
    {
     "name": "stdout",
     "output_type": "stream",
     "text": [
      "Train PSNR: 27.231\n",
      "Val PSNR: 27.412\n",
      "Epoch 8 of 100\n"
     ]
    },
    {
     "name": "stderr",
     "output_type": "stream",
     "text": [
      "256it [00:22, 11.38it/s]                                                        \n",
      "86it [00:02, 35.94it/s]                                                         \n"
     ]
    },
    {
     "name": "stdout",
     "output_type": "stream",
     "text": [
      "Train PSNR: 27.273\n",
      "Val PSNR: 27.447\n",
      "Epoch 9 of 100\n"
     ]
    },
    {
     "name": "stderr",
     "output_type": "stream",
     "text": [
      "256it [00:22, 11.41it/s]                                                        \n",
      "86it [00:02, 35.40it/s]                                                         \n"
     ]
    },
    {
     "name": "stdout",
     "output_type": "stream",
     "text": [
      "Train PSNR: 27.297\n",
      "Val PSNR: 27.484\n",
      "Epoch 10 of 100\n"
     ]
    },
    {
     "name": "stderr",
     "output_type": "stream",
     "text": [
      "256it [00:22, 11.28it/s]                                                        \n",
      "86it [00:02, 35.95it/s]                                                         \n"
     ]
    },
    {
     "name": "stdout",
     "output_type": "stream",
     "text": [
      "Train PSNR: 27.318\n",
      "Val PSNR: 27.502\n",
      "Epoch 11 of 100\n"
     ]
    },
    {
     "name": "stderr",
     "output_type": "stream",
     "text": [
      "256it [00:22, 11.54it/s]                                                        \n",
      "86it [00:02, 35.71it/s]                                                         \n"
     ]
    },
    {
     "name": "stdout",
     "output_type": "stream",
     "text": [
      "Train PSNR: 27.336\n",
      "Val PSNR: 27.526\n",
      "Epoch 12 of 100\n"
     ]
    },
    {
     "name": "stderr",
     "output_type": "stream",
     "text": [
      "256it [00:25, 10.08it/s]                                                        \n",
      "86it [00:02, 35.43it/s]                                                         \n"
     ]
    },
    {
     "name": "stdout",
     "output_type": "stream",
     "text": [
      "Train PSNR: 27.364\n",
      "Val PSNR: 27.553\n",
      "Epoch 13 of 100\n"
     ]
    },
    {
     "name": "stderr",
     "output_type": "stream",
     "text": [
      "256it [00:22, 11.43it/s]                                                        \n",
      "86it [00:02, 36.01it/s]                                                         \n"
     ]
    },
    {
     "name": "stdout",
     "output_type": "stream",
     "text": [
      "Train PSNR: 27.372\n",
      "Val PSNR: 27.576\n",
      "Epoch 14 of 100\n"
     ]
    },
    {
     "name": "stderr",
     "output_type": "stream",
     "text": [
      "256it [00:27,  9.35it/s]                                                        \n",
      "86it [00:02, 36.09it/s]                                                         \n"
     ]
    },
    {
     "name": "stdout",
     "output_type": "stream",
     "text": [
      "Train PSNR: 27.385\n",
      "Val PSNR: 27.572\n",
      "Epoch 15 of 100\n"
     ]
    },
    {
     "name": "stderr",
     "output_type": "stream",
     "text": [
      "256it [00:25,  9.97it/s]                                                        \n",
      "86it [00:03, 26.27it/s]                                                         \n"
     ]
    },
    {
     "name": "stdout",
     "output_type": "stream",
     "text": [
      "Train PSNR: 27.406\n",
      "Val PSNR: 27.577\n",
      "Epoch 16 of 100\n"
     ]
    },
    {
     "name": "stderr",
     "output_type": "stream",
     "text": [
      "256it [00:24, 10.47it/s]                                                        \n",
      "86it [00:02, 36.17it/s]                                                         \n"
     ]
    },
    {
     "name": "stdout",
     "output_type": "stream",
     "text": [
      "Train PSNR: 27.416\n",
      "Val PSNR: 27.623\n",
      "Epoch 17 of 100\n"
     ]
    },
    {
     "name": "stderr",
     "output_type": "stream",
     "text": [
      "256it [00:24, 10.31it/s]                                                        \n",
      "86it [00:02, 30.16it/s]                                                         \n"
     ]
    },
    {
     "name": "stdout",
     "output_type": "stream",
     "text": [
      "Train PSNR: 27.436\n",
      "Val PSNR: 27.642\n",
      "Epoch 18 of 100\n"
     ]
    },
    {
     "name": "stderr",
     "output_type": "stream",
     "text": [
      "256it [00:22, 11.24it/s]                                                        \n",
      "86it [00:02, 35.38it/s]                                                         \n"
     ]
    },
    {
     "name": "stdout",
     "output_type": "stream",
     "text": [
      "Train PSNR: 27.458\n",
      "Val PSNR: 27.630\n",
      "Epoch 19 of 100\n"
     ]
    },
    {
     "name": "stderr",
     "output_type": "stream",
     "text": [
      "256it [00:25,  9.85it/s]                                                        \n",
      "86it [00:02, 35.93it/s]                                                         \n"
     ]
    },
    {
     "name": "stdout",
     "output_type": "stream",
     "text": [
      "Train PSNR: 27.466\n",
      "Val PSNR: 27.602\n",
      "Epoch 20 of 100\n"
     ]
    },
    {
     "name": "stderr",
     "output_type": "stream",
     "text": [
      "256it [00:22, 11.31it/s]                                                        \n",
      "86it [00:02, 29.77it/s]                                                         \n"
     ]
    },
    {
     "name": "stdout",
     "output_type": "stream",
     "text": [
      "Train PSNR: 27.474\n",
      "Val PSNR: 27.602\n",
      "Epoch 21 of 100\n"
     ]
    },
    {
     "name": "stderr",
     "output_type": "stream",
     "text": [
      "256it [00:25, 10.03it/s]                                                        \n",
      "86it [00:02, 34.47it/s]                                                         \n"
     ]
    },
    {
     "name": "stdout",
     "output_type": "stream",
     "text": [
      "Train PSNR: 27.486\n",
      "Val PSNR: 27.648\n",
      "Epoch 22 of 100\n"
     ]
    },
    {
     "name": "stderr",
     "output_type": "stream",
     "text": [
      "256it [00:24, 10.56it/s]                                                        \n",
      "86it [00:02, 29.94it/s]                                                         \n"
     ]
    },
    {
     "name": "stdout",
     "output_type": "stream",
     "text": [
      "Train PSNR: 27.508\n",
      "Val PSNR: 27.697\n",
      "Epoch 23 of 100\n"
     ]
    },
    {
     "name": "stderr",
     "output_type": "stream",
     "text": [
      "256it [00:24, 10.48it/s]                                                        \n",
      "86it [00:02, 36.18it/s]                                                         \n"
     ]
    },
    {
     "name": "stdout",
     "output_type": "stream",
     "text": [
      "Train PSNR: 27.508\n",
      "Val PSNR: 27.679\n",
      "Epoch 24 of 100\n"
     ]
    },
    {
     "name": "stderr",
     "output_type": "stream",
     "text": [
      "256it [00:26,  9.78it/s]                                                        \n",
      "86it [00:02, 35.10it/s]                                                         \n"
     ]
    },
    {
     "name": "stdout",
     "output_type": "stream",
     "text": [
      "Train PSNR: 27.529\n",
      "Val PSNR: 27.714\n",
      "Epoch 25 of 100\n"
     ]
    },
    {
     "name": "stderr",
     "output_type": "stream",
     "text": [
      "256it [00:22, 11.58it/s]                                                        \n",
      "86it [00:02, 34.32it/s]                                                         \n"
     ]
    },
    {
     "name": "stdout",
     "output_type": "stream",
     "text": [
      "Train PSNR: 27.532\n",
      "Val PSNR: 27.727\n",
      "Epoch 26 of 100\n"
     ]
    },
    {
     "name": "stderr",
     "output_type": "stream",
     "text": [
      "256it [00:27,  9.24it/s]                                                        \n",
      "86it [00:02, 32.50it/s]                                                         \n"
     ]
    },
    {
     "name": "stdout",
     "output_type": "stream",
     "text": [
      "Train PSNR: 27.543\n",
      "Val PSNR: 27.714\n",
      "Epoch 27 of 100\n"
     ]
    },
    {
     "name": "stderr",
     "output_type": "stream",
     "text": [
      "256it [00:22, 11.56it/s]                                                        \n",
      "86it [00:02, 35.82it/s]                                                         \n"
     ]
    },
    {
     "name": "stdout",
     "output_type": "stream",
     "text": [
      "Train PSNR: 27.553\n",
      "Val PSNR: 27.685\n",
      "Epoch 28 of 100\n"
     ]
    },
    {
     "name": "stderr",
     "output_type": "stream",
     "text": [
      "256it [00:28,  9.07it/s]                                                        \n",
      "86it [00:02, 30.14it/s]                                                         \n"
     ]
    },
    {
     "name": "stdout",
     "output_type": "stream",
     "text": [
      "Train PSNR: 27.571\n",
      "Val PSNR: 27.750\n",
      "Epoch 29 of 100\n"
     ]
    },
    {
     "name": "stderr",
     "output_type": "stream",
     "text": [
      "256it [00:22, 11.45it/s]                                                        \n",
      "86it [00:02, 35.54it/s]                                                         \n"
     ]
    },
    {
     "name": "stdout",
     "output_type": "stream",
     "text": [
      "Train PSNR: 27.568\n",
      "Val PSNR: 27.670\n",
      "Epoch 30 of 100\n"
     ]
    },
    {
     "name": "stderr",
     "output_type": "stream",
     "text": [
      "256it [00:27,  9.42it/s]                                                        \n",
      "86it [00:02, 30.05it/s]                                                         \n"
     ]
    },
    {
     "name": "stdout",
     "output_type": "stream",
     "text": [
      "Train PSNR: 27.594\n",
      "Val PSNR: 27.756\n",
      "Epoch 31 of 100\n"
     ]
    },
    {
     "name": "stderr",
     "output_type": "stream",
     "text": [
      "256it [00:22, 11.34it/s]                                                        \n",
      "86it [00:02, 29.41it/s]                                                         \n"
     ]
    },
    {
     "name": "stdout",
     "output_type": "stream",
     "text": [
      "Train PSNR: 27.600\n",
      "Val PSNR: 27.765\n",
      "Epoch 32 of 100\n"
     ]
    },
    {
     "name": "stderr",
     "output_type": "stream",
     "text": [
      "256it [00:27,  9.33it/s]                                                        \n",
      "86it [00:02, 35.51it/s]                                                         \n"
     ]
    },
    {
     "name": "stdout",
     "output_type": "stream",
     "text": [
      "Train PSNR: 27.609\n",
      "Val PSNR: 27.732\n",
      "Epoch 33 of 100\n"
     ]
    },
    {
     "name": "stderr",
     "output_type": "stream",
     "text": [
      "256it [00:24, 10.33it/s]                                                        \n",
      "86it [00:02, 30.12it/s]                                                         \n"
     ]
    },
    {
     "name": "stdout",
     "output_type": "stream",
     "text": [
      "Train PSNR: 27.599\n",
      "Val PSNR: 27.718\n",
      "Epoch 34 of 100\n"
     ]
    },
    {
     "name": "stderr",
     "output_type": "stream",
     "text": [
      "256it [00:25, 10.03it/s]                                                        \n",
      "86it [00:02, 34.87it/s]                                                         \n"
     ]
    },
    {
     "name": "stdout",
     "output_type": "stream",
     "text": [
      "Train PSNR: 27.626\n",
      "Val PSNR: 27.765\n",
      "Epoch 35 of 100\n"
     ]
    },
    {
     "name": "stderr",
     "output_type": "stream",
     "text": [
      "256it [00:23, 10.75it/s]                                                        \n",
      "86it [00:02, 29.47it/s]                                                         \n"
     ]
    },
    {
     "name": "stdout",
     "output_type": "stream",
     "text": [
      "Train PSNR: 27.645\n",
      "Val PSNR: 27.802\n",
      "Epoch 36 of 100\n"
     ]
    },
    {
     "name": "stderr",
     "output_type": "stream",
     "text": [
      "256it [00:26,  9.82it/s]                                                        \n",
      "86it [00:02, 35.83it/s]                                                         \n"
     ]
    },
    {
     "name": "stdout",
     "output_type": "stream",
     "text": [
      "Train PSNR: 27.655\n",
      "Val PSNR: 27.805\n",
      "Epoch 37 of 100\n"
     ]
    },
    {
     "name": "stderr",
     "output_type": "stream",
     "text": [
      "256it [00:24, 10.30it/s]                                                        \n",
      "86it [00:02, 30.11it/s]                                                         \n"
     ]
    },
    {
     "name": "stdout",
     "output_type": "stream",
     "text": [
      "Train PSNR: 27.669\n",
      "Val PSNR: 27.875\n",
      "Epoch 38 of 100\n"
     ]
    },
    {
     "name": "stderr",
     "output_type": "stream",
     "text": [
      "256it [00:24, 10.29it/s]                                                        \n",
      "86it [00:02, 36.08it/s]                                                         \n"
     ]
    },
    {
     "name": "stdout",
     "output_type": "stream",
     "text": [
      "Train PSNR: 27.673\n",
      "Val PSNR: 27.627\n",
      "Epoch 39 of 100\n"
     ]
    },
    {
     "name": "stderr",
     "output_type": "stream",
     "text": [
      "256it [00:25,  9.93it/s]                                                        \n",
      "86it [00:02, 29.67it/s]                                                         \n"
     ]
    },
    {
     "name": "stdout",
     "output_type": "stream",
     "text": [
      "Train PSNR: 27.676\n",
      "Val PSNR: 27.554\n",
      "Epoch 40 of 100\n"
     ]
    },
    {
     "name": "stderr",
     "output_type": "stream",
     "text": [
      "256it [00:25, 10.06it/s]                                                        \n",
      "86it [00:02, 35.15it/s]                                                         \n"
     ]
    },
    {
     "name": "stdout",
     "output_type": "stream",
     "text": [
      "Train PSNR: 27.686\n",
      "Val PSNR: 27.806\n",
      "Epoch 41 of 100\n"
     ]
    },
    {
     "name": "stderr",
     "output_type": "stream",
     "text": [
      "256it [00:27,  9.35it/s]                                                        \n",
      "86it [00:02, 34.09it/s]                                                         \n"
     ]
    },
    {
     "name": "stdout",
     "output_type": "stream",
     "text": [
      "Train PSNR: 27.698\n",
      "Val PSNR: 27.771\n",
      "Epoch 42 of 100\n"
     ]
    },
    {
     "name": "stderr",
     "output_type": "stream",
     "text": [
      "256it [00:24, 10.65it/s]                                                        \n",
      "86it [00:02, 29.07it/s]                                                         \n"
     ]
    },
    {
     "name": "stdout",
     "output_type": "stream",
     "text": [
      "Train PSNR: 27.701\n",
      "Val PSNR: 27.913\n",
      "Epoch 43 of 100\n"
     ]
    },
    {
     "name": "stderr",
     "output_type": "stream",
     "text": [
      "256it [00:25,  9.85it/s]                                                        \n",
      "86it [00:02, 35.25it/s]                                                         \n"
     ]
    },
    {
     "name": "stdout",
     "output_type": "stream",
     "text": [
      "Train PSNR: 27.725\n",
      "Val PSNR: 27.907\n",
      "Epoch 44 of 100\n"
     ]
    },
    {
     "name": "stderr",
     "output_type": "stream",
     "text": [
      "256it [00:24, 10.25it/s]                                                        \n",
      "86it [00:03, 28.53it/s]                                                         \n"
     ]
    },
    {
     "name": "stdout",
     "output_type": "stream",
     "text": [
      "Train PSNR: 27.730\n",
      "Val PSNR: 27.956\n",
      "Epoch 45 of 100\n"
     ]
    },
    {
     "name": "stderr",
     "output_type": "stream",
     "text": [
      "256it [00:26,  9.68it/s]                                                        \n",
      "86it [00:02, 35.35it/s]                                                         \n"
     ]
    },
    {
     "name": "stdout",
     "output_type": "stream",
     "text": [
      "Train PSNR: 27.736\n",
      "Val PSNR: 27.295\n",
      "Epoch 46 of 100\n"
     ]
    },
    {
     "name": "stderr",
     "output_type": "stream",
     "text": [
      "256it [00:25, 10.05it/s]                                                        \n",
      "86it [00:02, 29.19it/s]                                                         \n"
     ]
    },
    {
     "name": "stdout",
     "output_type": "stream",
     "text": [
      "Train PSNR: 27.743\n",
      "Val PSNR: 27.203\n",
      "Epoch 47 of 100\n"
     ]
    },
    {
     "name": "stderr",
     "output_type": "stream",
     "text": [
      "256it [00:25, 10.06it/s]                                                        \n",
      "86it [00:02, 35.69it/s]                                                         \n"
     ]
    },
    {
     "name": "stdout",
     "output_type": "stream",
     "text": [
      "Train PSNR: 27.765\n",
      "Val PSNR: 27.979\n",
      "Epoch 48 of 100\n"
     ]
    },
    {
     "name": "stderr",
     "output_type": "stream",
     "text": [
      "256it [00:25, 10.18it/s]                                                        \n",
      "86it [00:02, 30.03it/s]                                                         \n"
     ]
    },
    {
     "name": "stdout",
     "output_type": "stream",
     "text": [
      "Train PSNR: 27.768\n",
      "Val PSNR: 27.963\n",
      "Epoch 49 of 100\n"
     ]
    },
    {
     "name": "stderr",
     "output_type": "stream",
     "text": [
      "256it [00:25,  9.95it/s]                                                        \n",
      "86it [00:02, 33.12it/s]                                                         \n"
     ]
    },
    {
     "name": "stdout",
     "output_type": "stream",
     "text": [
      "Train PSNR: 27.769\n",
      "Val PSNR: 27.451\n",
      "Epoch 50 of 100\n"
     ]
    },
    {
     "name": "stderr",
     "output_type": "stream",
     "text": [
      "256it [00:26,  9.59it/s]                                                        \n",
      "86it [00:02, 30.04it/s]                                                         \n"
     ]
    },
    {
     "name": "stdout",
     "output_type": "stream",
     "text": [
      "Train PSNR: 27.769\n",
      "Val PSNR: 27.969\n",
      "Epoch 51 of 100\n"
     ]
    },
    {
     "name": "stderr",
     "output_type": "stream",
     "text": [
      "256it [00:23, 10.93it/s]                                                        \n",
      "86it [00:02, 29.61it/s]                                                         \n"
     ]
    },
    {
     "name": "stdout",
     "output_type": "stream",
     "text": [
      "Train PSNR: 27.763\n",
      "Val PSNR: 28.015\n",
      "Epoch 52 of 100\n"
     ]
    },
    {
     "name": "stderr",
     "output_type": "stream",
     "text": [
      "256it [00:27,  9.23it/s]                                                        \n",
      "86it [00:02, 30.35it/s]                                                         \n"
     ]
    },
    {
     "name": "stdout",
     "output_type": "stream",
     "text": [
      "Train PSNR: 27.798\n",
      "Val PSNR: 27.981\n",
      "Epoch 53 of 100\n"
     ]
    },
    {
     "name": "stderr",
     "output_type": "stream",
     "text": [
      "256it [00:24, 10.54it/s]                                                        \n",
      "86it [00:02, 29.92it/s]                                                         \n"
     ]
    },
    {
     "name": "stdout",
     "output_type": "stream",
     "text": [
      "Train PSNR: 27.759\n",
      "Val PSNR: 28.056\n",
      "Epoch 54 of 100\n"
     ]
    },
    {
     "name": "stderr",
     "output_type": "stream",
     "text": [
      "256it [00:26,  9.83it/s]                                                        \n",
      "86it [00:02, 34.91it/s]                                                         \n"
     ]
    },
    {
     "name": "stdout",
     "output_type": "stream",
     "text": [
      "Train PSNR: 27.820\n",
      "Val PSNR: 28.066\n",
      "Epoch 55 of 100\n"
     ]
    },
    {
     "name": "stderr",
     "output_type": "stream",
     "text": [
      "256it [00:25,  9.91it/s]                                                        \n",
      "86it [00:02, 30.43it/s]                                                         \n"
     ]
    },
    {
     "name": "stdout",
     "output_type": "stream",
     "text": [
      "Train PSNR: 27.807\n",
      "Val PSNR: 28.006\n",
      "Epoch 56 of 100\n"
     ]
    },
    {
     "name": "stderr",
     "output_type": "stream",
     "text": [
      "256it [00:24, 10.63it/s]                                                        \n",
      "86it [00:02, 32.23it/s]                                                         \n"
     ]
    },
    {
     "name": "stdout",
     "output_type": "stream",
     "text": [
      "Train PSNR: 27.823\n",
      "Val PSNR: 28.033\n",
      "Epoch 57 of 100\n"
     ]
    },
    {
     "name": "stderr",
     "output_type": "stream",
     "text": [
      "256it [00:27,  9.20it/s]                                                        \n",
      "86it [00:02, 30.29it/s]                                                         \n"
     ]
    },
    {
     "name": "stdout",
     "output_type": "stream",
     "text": [
      "Train PSNR: 27.812\n",
      "Val PSNR: 28.003\n",
      "Epoch 58 of 100\n"
     ]
    },
    {
     "name": "stderr",
     "output_type": "stream",
     "text": [
      "256it [00:23, 10.83it/s]                                                        \n",
      "86it [00:02, 36.05it/s]                                                         \n"
     ]
    },
    {
     "name": "stdout",
     "output_type": "stream",
     "text": [
      "Train PSNR: 27.801\n",
      "Val PSNR: 28.032\n",
      "Epoch 59 of 100\n"
     ]
    },
    {
     "name": "stderr",
     "output_type": "stream",
     "text": [
      "256it [00:27,  9.48it/s]                                                        \n",
      "86it [00:02, 30.00it/s]                                                         \n"
     ]
    },
    {
     "name": "stdout",
     "output_type": "stream",
     "text": [
      "Train PSNR: 27.855\n",
      "Val PSNR: 28.084\n",
      "Epoch 60 of 100\n"
     ]
    },
    {
     "name": "stderr",
     "output_type": "stream",
     "text": [
      "256it [00:25,  9.85it/s]                                                        \n",
      "86it [00:02, 36.11it/s]                                                         \n"
     ]
    },
    {
     "name": "stdout",
     "output_type": "stream",
     "text": [
      "Train PSNR: 27.809\n",
      "Val PSNR: 27.907\n",
      "Epoch 61 of 100\n"
     ]
    },
    {
     "name": "stderr",
     "output_type": "stream",
     "text": [
      "256it [00:26,  9.72it/s]                                                        \n",
      "86it [00:02, 29.67it/s]                                                         \n"
     ]
    },
    {
     "name": "stdout",
     "output_type": "stream",
     "text": [
      "Train PSNR: 27.859\n",
      "Val PSNR: 28.099\n",
      "Epoch 62 of 100\n"
     ]
    },
    {
     "name": "stderr",
     "output_type": "stream",
     "text": [
      "256it [00:27,  9.41it/s]                                                        \n",
      "86it [00:02, 31.62it/s]                                                         \n"
     ]
    },
    {
     "name": "stdout",
     "output_type": "stream",
     "text": [
      "Train PSNR: 27.844\n",
      "Val PSNR: 27.925\n",
      "Epoch 63 of 100\n"
     ]
    },
    {
     "name": "stderr",
     "output_type": "stream",
     "text": [
      "256it [00:25,  9.99it/s]                                                        \n",
      "86it [00:02, 32.37it/s]                                                         \n"
     ]
    },
    {
     "name": "stdout",
     "output_type": "stream",
     "text": [
      "Train PSNR: 27.835\n",
      "Val PSNR: 28.011\n",
      "Epoch 64 of 100\n"
     ]
    },
    {
     "name": "stderr",
     "output_type": "stream",
     "text": [
      "256it [00:25, 10.01it/s]                                                        \n",
      "86it [00:02, 32.70it/s]                                                         \n"
     ]
    },
    {
     "name": "stdout",
     "output_type": "stream",
     "text": [
      "Train PSNR: 27.845\n",
      "Val PSNR: 28.120\n",
      "Epoch 65 of 100\n"
     ]
    },
    {
     "name": "stderr",
     "output_type": "stream",
     "text": [
      "256it [00:25,  9.96it/s]                                                        \n",
      "86it [00:02, 30.89it/s]                                                         \n"
     ]
    },
    {
     "name": "stdout",
     "output_type": "stream",
     "text": [
      "Train PSNR: 27.889\n",
      "Val PSNR: 28.004\n",
      "Epoch 66 of 100\n"
     ]
    },
    {
     "name": "stderr",
     "output_type": "stream",
     "text": [
      "256it [00:25,  9.91it/s]                                                        \n",
      "86it [00:02, 32.61it/s]                                                         \n"
     ]
    },
    {
     "name": "stdout",
     "output_type": "stream",
     "text": [
      "Train PSNR: 27.885\n",
      "Val PSNR: 28.145\n",
      "Epoch 67 of 100\n"
     ]
    },
    {
     "name": "stderr",
     "output_type": "stream",
     "text": [
      "256it [00:25, 10.03it/s]                                                        \n",
      "86it [00:02, 32.16it/s]                                                         \n"
     ]
    },
    {
     "name": "stdout",
     "output_type": "stream",
     "text": [
      "Train PSNR: 27.887\n",
      "Val PSNR: 26.800\n",
      "Epoch 68 of 100\n"
     ]
    },
    {
     "name": "stderr",
     "output_type": "stream",
     "text": [
      "256it [00:25,  9.96it/s]                                                        \n",
      "86it [00:02, 32.07it/s]                                                         \n"
     ]
    },
    {
     "name": "stdout",
     "output_type": "stream",
     "text": [
      "Train PSNR: 27.855\n",
      "Val PSNR: 27.969\n",
      "Epoch 69 of 100\n"
     ]
    },
    {
     "name": "stderr",
     "output_type": "stream",
     "text": [
      "256it [00:25,  9.92it/s]                                                        \n",
      "86it [00:02, 32.30it/s]                                                         \n"
     ]
    },
    {
     "name": "stdout",
     "output_type": "stream",
     "text": [
      "Train PSNR: 27.881\n",
      "Val PSNR: 28.053\n",
      "Epoch 70 of 100\n"
     ]
    },
    {
     "name": "stderr",
     "output_type": "stream",
     "text": [
      "256it [00:25,  9.97it/s]                                                        \n",
      "86it [00:02, 30.42it/s]                                                         \n"
     ]
    },
    {
     "name": "stdout",
     "output_type": "stream",
     "text": [
      "Train PSNR: 27.894\n",
      "Val PSNR: 28.169\n",
      "Epoch 71 of 100\n"
     ]
    },
    {
     "name": "stderr",
     "output_type": "stream",
     "text": [
      "256it [00:26,  9.62it/s]                                                        \n",
      "86it [00:02, 32.68it/s]                                                         \n"
     ]
    },
    {
     "name": "stdout",
     "output_type": "stream",
     "text": [
      "Train PSNR: 27.912\n",
      "Val PSNR: 28.046\n",
      "Epoch 72 of 100\n"
     ]
    },
    {
     "name": "stderr",
     "output_type": "stream",
     "text": [
      "256it [00:25,  9.94it/s]                                                        \n",
      "86it [00:02, 31.45it/s]                                                         \n"
     ]
    },
    {
     "name": "stdout",
     "output_type": "stream",
     "text": [
      "Train PSNR: 27.940\n",
      "Val PSNR: 28.152\n",
      "Epoch 73 of 100\n"
     ]
    },
    {
     "name": "stderr",
     "output_type": "stream",
     "text": [
      "256it [00:25,  9.96it/s]                                                        \n",
      "86it [00:02, 31.97it/s]                                                         \n"
     ]
    },
    {
     "name": "stdout",
     "output_type": "stream",
     "text": [
      "Train PSNR: 27.895\n",
      "Val PSNR: 27.952\n",
      "Epoch 74 of 100\n"
     ]
    },
    {
     "name": "stderr",
     "output_type": "stream",
     "text": [
      "256it [00:30,  8.37it/s]                                                        \n",
      "86it [00:02, 32.23it/s]                                                         \n"
     ]
    },
    {
     "name": "stdout",
     "output_type": "stream",
     "text": [
      "Train PSNR: 27.931\n",
      "Val PSNR: 28.169\n",
      "Epoch 75 of 100\n"
     ]
    },
    {
     "name": "stderr",
     "output_type": "stream",
     "text": [
      "256it [00:24, 10.32it/s]                                                        \n",
      "86it [00:02, 32.72it/s]                                                         \n"
     ]
    },
    {
     "name": "stdout",
     "output_type": "stream",
     "text": [
      "Train PSNR: 27.911\n",
      "Val PSNR: 28.127\n",
      "Epoch 76 of 100\n"
     ]
    },
    {
     "name": "stderr",
     "output_type": "stream",
     "text": [
      "256it [00:24, 10.34it/s]                                                        \n",
      "86it [00:02, 31.86it/s]                                                         \n"
     ]
    },
    {
     "name": "stdout",
     "output_type": "stream",
     "text": [
      "Train PSNR: 27.928\n",
      "Val PSNR: 28.194\n",
      "Epoch 77 of 100\n"
     ]
    },
    {
     "name": "stderr",
     "output_type": "stream",
     "text": [
      "256it [00:27,  9.27it/s]                                                        \n",
      "86it [00:02, 29.92it/s]                                                         \n"
     ]
    },
    {
     "name": "stdout",
     "output_type": "stream",
     "text": [
      "Train PSNR: 27.934\n",
      "Val PSNR: 28.194\n",
      "Epoch 78 of 100\n"
     ]
    },
    {
     "name": "stderr",
     "output_type": "stream",
     "text": [
      "256it [00:24, 10.29it/s]                                                        \n",
      "86it [00:02, 33.26it/s]                                                         \n"
     ]
    },
    {
     "name": "stdout",
     "output_type": "stream",
     "text": [
      "Train PSNR: 27.788\n",
      "Val PSNR: 27.910\n",
      "Epoch 79 of 100\n"
     ]
    },
    {
     "name": "stderr",
     "output_type": "stream",
     "text": [
      "256it [00:26,  9.84it/s]                                                        \n",
      "86it [00:02, 34.12it/s]                                                         \n"
     ]
    },
    {
     "name": "stdout",
     "output_type": "stream",
     "text": [
      "Train PSNR: 27.888\n",
      "Val PSNR: 27.971\n",
      "Epoch 80 of 100\n"
     ]
    },
    {
     "name": "stderr",
     "output_type": "stream",
     "text": [
      "256it [00:26,  9.58it/s]                                                        \n",
      "86it [00:02, 31.19it/s]                                                         \n"
     ]
    },
    {
     "name": "stdout",
     "output_type": "stream",
     "text": [
      "Train PSNR: 27.938\n",
      "Val PSNR: 27.395\n",
      "Epoch 81 of 100\n"
     ]
    },
    {
     "name": "stderr",
     "output_type": "stream",
     "text": [
      "256it [00:24, 10.47it/s]                                                        \n",
      "86it [00:02, 34.38it/s]                                                         \n"
     ]
    },
    {
     "name": "stdout",
     "output_type": "stream",
     "text": [
      "Train PSNR: 27.910\n",
      "Val PSNR: 27.961\n",
      "Epoch 82 of 100\n"
     ]
    },
    {
     "name": "stderr",
     "output_type": "stream",
     "text": [
      "256it [00:24, 10.45it/s]                                                        \n",
      "86it [00:02, 32.96it/s]                                                         \n"
     ]
    },
    {
     "name": "stdout",
     "output_type": "stream",
     "text": [
      "Train PSNR: 27.970\n",
      "Val PSNR: 28.219\n",
      "Epoch 83 of 100\n"
     ]
    },
    {
     "name": "stderr",
     "output_type": "stream",
     "text": [
      "256it [00:24, 10.37it/s]                                                        \n",
      "86it [00:02, 34.06it/s]                                                         \n"
     ]
    },
    {
     "name": "stdout",
     "output_type": "stream",
     "text": [
      "Train PSNR: 27.957\n",
      "Val PSNR: 28.195\n",
      "Epoch 84 of 100\n"
     ]
    },
    {
     "name": "stderr",
     "output_type": "stream",
     "text": [
      "256it [00:23, 10.99it/s]                                                        \n",
      "86it [00:02, 37.86it/s]                                                         \n"
     ]
    },
    {
     "name": "stdout",
     "output_type": "stream",
     "text": [
      "Train PSNR: 27.943\n",
      "Val PSNR: 28.170\n",
      "Epoch 85 of 100\n"
     ]
    },
    {
     "name": "stderr",
     "output_type": "stream",
     "text": [
      "256it [00:24, 10.40it/s]                                                        \n",
      "86it [00:02, 29.65it/s]                                                         \n"
     ]
    },
    {
     "name": "stdout",
     "output_type": "stream",
     "text": [
      "Train PSNR: 27.971\n",
      "Val PSNR: 28.050\n",
      "Epoch 86 of 100\n"
     ]
    },
    {
     "name": "stderr",
     "output_type": "stream",
     "text": [
      "256it [00:27,  9.15it/s]                                                        \n",
      "86it [00:02, 29.51it/s]                                                         \n"
     ]
    },
    {
     "name": "stdout",
     "output_type": "stream",
     "text": [
      "Train PSNR: 27.988\n",
      "Val PSNR: 28.224\n",
      "Epoch 87 of 100\n"
     ]
    },
    {
     "name": "stderr",
     "output_type": "stream",
     "text": [
      "256it [00:27,  9.18it/s]                                                        \n",
      "86it [00:02, 29.88it/s]                                                         \n"
     ]
    },
    {
     "name": "stdout",
     "output_type": "stream",
     "text": [
      "Train PSNR: 27.948\n",
      "Val PSNR: 27.997\n",
      "Epoch 88 of 100\n"
     ]
    },
    {
     "name": "stderr",
     "output_type": "stream",
     "text": [
      "256it [00:23, 10.76it/s]                                                        \n",
      "86it [00:02, 30.17it/s]                                                         \n"
     ]
    },
    {
     "name": "stdout",
     "output_type": "stream",
     "text": [
      "Train PSNR: 28.002\n",
      "Val PSNR: 28.186\n",
      "Epoch 89 of 100\n"
     ]
    },
    {
     "name": "stderr",
     "output_type": "stream",
     "text": [
      "256it [00:27,  9.27it/s]                                                        \n",
      "86it [00:02, 29.81it/s]                                                         \n"
     ]
    },
    {
     "name": "stdout",
     "output_type": "stream",
     "text": [
      "Train PSNR: 27.950\n",
      "Val PSNR: 28.251\n",
      "Epoch 90 of 100\n"
     ]
    },
    {
     "name": "stderr",
     "output_type": "stream",
     "text": [
      "256it [00:25, 10.23it/s]                                                        \n",
      "86it [00:02, 34.61it/s]                                                         \n"
     ]
    },
    {
     "name": "stdout",
     "output_type": "stream",
     "text": [
      "Train PSNR: 27.994\n",
      "Val PSNR: 28.253\n",
      "Epoch 91 of 100\n"
     ]
    },
    {
     "name": "stderr",
     "output_type": "stream",
     "text": [
      "256it [00:27,  9.43it/s]                                                        \n",
      "86it [00:03, 28.51it/s]                                                         \n"
     ]
    },
    {
     "name": "stdout",
     "output_type": "stream",
     "text": [
      "Train PSNR: 27.981\n",
      "Val PSNR: 28.022\n",
      "Epoch 92 of 100\n"
     ]
    },
    {
     "name": "stderr",
     "output_type": "stream",
     "text": [
      "256it [00:26,  9.52it/s]                                                        \n",
      "86it [00:02, 36.03it/s]                                                         \n"
     ]
    },
    {
     "name": "stdout",
     "output_type": "stream",
     "text": [
      "Train PSNR: 27.979\n",
      "Val PSNR: 28.250\n",
      "Epoch 93 of 100\n"
     ]
    },
    {
     "name": "stderr",
     "output_type": "stream",
     "text": [
      "256it [00:24, 10.27it/s]                                                        \n",
      "86it [00:02, 29.59it/s]                                                         \n"
     ]
    },
    {
     "name": "stdout",
     "output_type": "stream",
     "text": [
      "Train PSNR: 28.008\n",
      "Val PSNR: 28.273\n",
      "Epoch 94 of 100\n"
     ]
    },
    {
     "name": "stderr",
     "output_type": "stream",
     "text": [
      "256it [00:30,  8.41it/s]                                                        \n",
      "86it [00:02, 29.31it/s]                                                         \n"
     ]
    },
    {
     "name": "stdout",
     "output_type": "stream",
     "text": [
      "Train PSNR: 28.013\n",
      "Val PSNR: 28.244\n",
      "Epoch 95 of 100\n"
     ]
    },
    {
     "name": "stderr",
     "output_type": "stream",
     "text": [
      "256it [00:29,  8.79it/s]                                                        \n",
      "86it [00:02, 29.14it/s]                                                         \n"
     ]
    },
    {
     "name": "stdout",
     "output_type": "stream",
     "text": [
      "Train PSNR: 28.005\n",
      "Val PSNR: 28.261\n",
      "Epoch 96 of 100\n"
     ]
    },
    {
     "name": "stderr",
     "output_type": "stream",
     "text": [
      "256it [00:22, 11.13it/s]                                                        \n",
      "86it [00:02, 38.16it/s]                                                         \n"
     ]
    },
    {
     "name": "stdout",
     "output_type": "stream",
     "text": [
      "Train PSNR: 27.982\n",
      "Val PSNR: 28.140\n",
      "Epoch 97 of 100\n"
     ]
    },
    {
     "name": "stderr",
     "output_type": "stream",
     "text": [
      "256it [00:24, 10.26it/s]                                                        \n",
      "86it [00:02, 32.33it/s]                                                         \n"
     ]
    },
    {
     "name": "stdout",
     "output_type": "stream",
     "text": [
      "Train PSNR: 28.007\n",
      "Val PSNR: 28.191\n",
      "Epoch 98 of 100\n"
     ]
    },
    {
     "name": "stderr",
     "output_type": "stream",
     "text": [
      "256it [00:25, 10.05it/s]                                                        \n",
      "86it [00:02, 38.12it/s]                                                         \n"
     ]
    },
    {
     "name": "stdout",
     "output_type": "stream",
     "text": [
      "Train PSNR: 28.027\n",
      "Val PSNR: 28.112\n",
      "Epoch 99 of 100\n"
     ]
    },
    {
     "name": "stderr",
     "output_type": "stream",
     "text": [
      "256it [00:23, 10.94it/s]                                                        \n",
      "86it [00:02, 31.75it/s]                                                         \n"
     ]
    },
    {
     "name": "stdout",
     "output_type": "stream",
     "text": [
      "Train PSNR: 28.012\n",
      "Val PSNR: 28.284\n",
      "Epoch 100 of 100\n"
     ]
    },
    {
     "name": "stderr",
     "output_type": "stream",
     "text": [
      "256it [00:24, 10.29it/s]                                                        \n",
      "86it [00:02, 38.20it/s]                                                         "
     ]
    },
    {
     "name": "stdout",
     "output_type": "stream",
     "text": [
      "Train PSNR: 28.018\n",
      "Val PSNR: 28.234\n",
      "Finished training in: 46.561 minutes\n"
     ]
    },
    {
     "name": "stderr",
     "output_type": "stream",
     "text": [
      "\n"
     ]
    }
   ],
   "source": [
    "train_loss, val_loss = [], []\n",
    "train_psnr, val_psnr = [], []\n",
    "start = time.time()\n",
    "for epoch in range(epochs):\n",
    "    print(f\"Epoch {epoch + 1} of {epochs}\")\n",
    "    train_epoch_loss, train_epoch_psnr = train(model, train_loader)\n",
    "    val_epoch_loss, val_epoch_psnr = validate(model, val_loader, epoch)\n",
    "    print(f\"Train PSNR: {train_epoch_psnr:.3f}\")\n",
    "    print(f\"Val PSNR: {val_epoch_psnr:.3f}\")\n",
    "    train_loss.append(train_epoch_loss)\n",
    "    train_psnr.append(train_epoch_psnr)\n",
    "    val_loss.append(val_epoch_loss)\n",
    "    val_psnr.append(val_epoch_psnr)\n",
    "end = time.time()\n",
    "print(f\"Finished training in: {((end-start)/60):.3f} minutes\")"
   ]
  },
  {
   "cell_type": "code",
   "execution_count": 16,
   "id": "d2f00636",
   "metadata": {},
   "outputs": [
    {
     "data": {
      "image/png": "[encoded data removed]",
      "text/plain": [
       "<Figure size 720x504 with 1 Axes>"
      ]
     },
     "metadata": {},
     "output_type": "display_data"
    },
    {
     "data": {
      "image/png": "[encoded data removed]",
      "text/plain": [
       "<Figure size 720x504 with 1 Axes>"
      ]
     },
     "metadata": {},
     "output_type": "display_data"
    },
    {
     "name": "stdout",
     "output_type": "stream",
     "text": [
      "Saving model...\n"
     ]
    }
   ],
   "source": [
    "# loss plots\n",
    "plt.figure(figsize=(10, 7))\n",
    "plt.plot(train_loss, color='orange', label='train loss')\n",
    "plt.plot(val_loss, color='red', label='validataion loss')\n",
    "plt.xlabel('Epochs')\n",
    "plt.ylabel('Loss')\n",
    "plt.legend()\n",
    "plt.savefig('../outputs/loss.png')\n",
    "plt.show()\n",
    "# psnr plots\n",
    "plt.figure(figsize=(10, 7))\n",
    "plt.plot(train_psnr, color='green', label='train PSNR dB')\n",
    "plt.plot(val_psnr, color='blue', label='validataion PSNR dB')\n",
    "plt.xlabel('Epochs')\n",
    "plt.ylabel('PSNR (dB)')\n",
    "plt.legend()\n",
    "plt.savefig('../outputs/psnr.png')\n",
    "plt.show()\n",
    "# save the model to disk\n",
    "print('Saving model...')\n",
    "torch.save(model.state_dict(), '../outputs/model.pth')\n"
   ]
  },
  {
   "cell_type": "code",
   "execution_count": null,
   "id": "155dc927",
   "metadata": {},
   "outputs": [],
   "source": []
  },
  {
   "cell_type": "code",
   "execution_count": 17,
   "id": "c894bb21",
   "metadata": {},
   "outputs": [
    {
     "data": {
      "text/plain": [
       "'cpu'"
      ]
     },
     "execution_count": 17,
     "metadata": {},
     "output_type": "execute_result"
    }
   ],
   "source": [
    "device"
   ]
  }
 ],
 "metadata": {
  "kernelspec": {
   "display_name": "Python 3 (ipykernel)",
   "language": "python",
   "name": "python3"
  },
  "language_info": {
   "codemirror_mode": {
    "name": "ipython",
    "version": 3
   },
   "file_extension": ".py",
   "mimetype": "text/x-python",
   "name": "python",
   "nbconvert_exporter": "python",
   "pygments_lexer": "ipython3",
   "version": "3.9.12"
  }
 },
 "nbformat": 4,
 "nbformat_minor": 5
}
